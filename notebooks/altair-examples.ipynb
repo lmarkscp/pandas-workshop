{
 "cells": [
  {
   "cell_type": "code",
   "execution_count": 1,
   "id": "7450f19c-ce57-4a02-bf62-91c6b503267a",
   "metadata": {},
   "outputs": [],
   "source": [
    "import pandas as pd\n",
    "import altair as alt\n",
    "alt.renderers.enable('notebook')\n",
    "\n",
    "data = pd.DataFrame({'a': list('CCCDDDEEE'),\n",
    "                     'b': [2, 7, 4, 1, 2, 6, 8, 4, 7]})"
   ]
  },
  {
   "cell_type": "code",
   "execution_count": 2,
   "id": "c34a4c07-6f2a-451a-8d91-29b34c080b50",
   "metadata": {},
   "outputs": [
    {
     "name": "stdout",
     "output_type": "stream",
     "text": [
      "Displaying chart at http://localhost:42233/\n",
      "Opening in existing browser session.\n"
     ]
    }
   ],
   "source": [
    "chart = alt.Chart(data).mark_point().encode(\n",
    "    x='a',\n",
    "    y='b'\n",
    ")\n",
    "chart.show()"
   ]
  },
  {
   "cell_type": "code",
   "execution_count": 3,
   "id": "b4a41f25-11a8-4104-8f2b-ab8604305fe8",
   "metadata": {},
   "outputs": [
    {
     "name": "stdout",
     "output_type": "stream",
     "text": [
      "Displaying chart at http://localhost:42233/\n",
      "Opening in existing browser session.\n"
     ]
    }
   ],
   "source": [
    "# load a simple dataset as a pandas DataFrame\n",
    "from vega_datasets import data\n",
    "cars = data.cars()\n",
    "\n",
    "chart = alt.Chart(cars).mark_point().encode(\n",
    "    x='Horsepower',\n",
    "    y='Miles_per_Gallon',\n",
    "    color='Origin',\n",
    ").interactive()\n",
    "chart.show()"
   ]
  },
  {
   "cell_type": "code",
   "execution_count": 4,
   "id": "1981e559-1c12-47dc-bb52-d9c628220e65",
   "metadata": {
    "jupyter": {
     "source_hidden": true
    },
    "tags": []
   },
   "outputs": [
    {
     "data": {
      "text/html": [
       "<div>\n",
       "<style scoped>\n",
       "    .dataframe tbody tr th:only-of-type {\n",
       "        vertical-align: middle;\n",
       "    }\n",
       "\n",
       "    .dataframe tbody tr th {\n",
       "        vertical-align: top;\n",
       "    }\n",
       "\n",
       "    .dataframe thead th {\n",
       "        text-align: right;\n",
       "    }\n",
       "</style>\n",
       "<table border=\"1\" class=\"dataframe\">\n",
       "  <thead>\n",
       "    <tr style=\"text-align: right;\">\n",
       "      <th></th>\n",
       "      <th>Address</th>\n",
       "      <th>Domains</th>\n",
       "      <th>First Seen</th>\n",
       "      <th>Hostname</th>\n",
       "      <th>IP Version</th>\n",
       "      <th>known</th>\n",
       "      <th>Last Seen</th>\n",
       "      <th>Name</th>\n",
       "      <th>Online</th>\n",
       "      <th>Risk Score</th>\n",
       "    </tr>\n",
       "  </thead>\n",
       "  <tbody>\n",
       "    <tr>\n",
       "      <th>0</th>\n",
       "      <td>3.224.115.40</td>\n",
       "      <td>ec2-3-224-115-40.compute-1.amazonaws.com</td>\n",
       "      <td>2022-10-14T00:00:00.875836Z</td>\n",
       "      <td>ec2-3-224-115-40.compute-1.amazonaws.com</td>\n",
       "      <td>4</td>\n",
       "      <td>False</td>\n",
       "      <td>2022-10-26T00:00:00.417605Z</td>\n",
       "      <td>ec2-3-224-115-40.compute-1.amazonaws.com</td>\n",
       "      <td>True</td>\n",
       "      <td>6.528397</td>\n",
       "    </tr>\n",
       "    <tr>\n",
       "      <th>1</th>\n",
       "      <td>3.219.196.169</td>\n",
       "      <td>ec2-3-219-196-169.compute-1.amazonaws.com</td>\n",
       "      <td>2022-10-04T00:00:00.346170Z</td>\n",
       "      <td>ec2-3-219-196-169.compute-1.amazonaws.com</td>\n",
       "      <td>4</td>\n",
       "      <td>False</td>\n",
       "      <td>2022-10-04T00:00:00.346170Z</td>\n",
       "      <td>ec2-3-219-196-169.compute-1.amazonaws.com</td>\n",
       "      <td>True</td>\n",
       "      <td>16.320992</td>\n",
       "    </tr>\n",
       "    <tr>\n",
       "      <th>2</th>\n",
       "      <td>143.204.86.22</td>\n",
       "      <td>server-143-204-86-22.nrt12.r.cloudfront.net,do...</td>\n",
       "      <td>2022-05-10T00:00:00.812885Z</td>\n",
       "      <td>server-143-204-86-22.nrt12.r.cloudfront.net</td>\n",
       "      <td>4</td>\n",
       "      <td>False</td>\n",
       "      <td>2022-05-10T00:00:00.812885Z</td>\n",
       "      <td>documentation.catosec.io</td>\n",
       "      <td>True</td>\n",
       "      <td>9.792595</td>\n",
       "    </tr>\n",
       "    <tr>\n",
       "      <th>3</th>\n",
       "      <td>52.203.213.7</td>\n",
       "      <td>ec2-52-203-213-7.compute-1.amazonaws.com</td>\n",
       "      <td>2022-10-13T00:00:00.446386Z</td>\n",
       "      <td>ec2-52-203-213-7.compute-1.amazonaws.com</td>\n",
       "      <td>4</td>\n",
       "      <td>False</td>\n",
       "      <td>2022-10-13T00:00:00.446386Z</td>\n",
       "      <td>ec2-52-203-213-7.compute-1.amazonaws.com</td>\n",
       "      <td>True</td>\n",
       "      <td>16.320992</td>\n",
       "    </tr>\n",
       "    <tr>\n",
       "      <th>4</th>\n",
       "      <td>108.138.85.73</td>\n",
       "      <td>server-108-138-85-73.iad12.r.cloudfront.net,do...</td>\n",
       "      <td>2022-10-15T00:00:00.364146Z</td>\n",
       "      <td>server-108-138-85-73.iad12.r.cloudfront.net</td>\n",
       "      <td>4</td>\n",
       "      <td>False</td>\n",
       "      <td>2022-10-15T00:00:00.364146Z</td>\n",
       "      <td>documentation.catosec.io</td>\n",
       "      <td>True</td>\n",
       "      <td>9.792595</td>\n",
       "    </tr>\n",
       "  </tbody>\n",
       "</table>\n",
       "</div>"
      ],
      "text/plain": [
       "         Address                                            Domains  \\\n",
       "0   3.224.115.40           ec2-3-224-115-40.compute-1.amazonaws.com   \n",
       "1  3.219.196.169          ec2-3-219-196-169.compute-1.amazonaws.com   \n",
       "2  143.204.86.22  server-143-204-86-22.nrt12.r.cloudfront.net,do...   \n",
       "3   52.203.213.7           ec2-52-203-213-7.compute-1.amazonaws.com   \n",
       "4  108.138.85.73  server-108-138-85-73.iad12.r.cloudfront.net,do...   \n",
       "\n",
       "                    First Seen                                     Hostname  \\\n",
       "0  2022-10-14T00:00:00.875836Z     ec2-3-224-115-40.compute-1.amazonaws.com   \n",
       "1  2022-10-04T00:00:00.346170Z    ec2-3-219-196-169.compute-1.amazonaws.com   \n",
       "2  2022-05-10T00:00:00.812885Z  server-143-204-86-22.nrt12.r.cloudfront.net   \n",
       "3  2022-10-13T00:00:00.446386Z     ec2-52-203-213-7.compute-1.amazonaws.com   \n",
       "4  2022-10-15T00:00:00.364146Z  server-108-138-85-73.iad12.r.cloudfront.net   \n",
       "\n",
       "   IP Version  known                    Last Seen  \\\n",
       "0           4  False  2022-10-26T00:00:00.417605Z   \n",
       "1           4  False  2022-10-04T00:00:00.346170Z   \n",
       "2           4  False  2022-05-10T00:00:00.812885Z   \n",
       "3           4  False  2022-10-13T00:00:00.446386Z   \n",
       "4           4  False  2022-10-15T00:00:00.364146Z   \n",
       "\n",
       "                                        Name  Online  Risk Score  \n",
       "0   ec2-3-224-115-40.compute-1.amazonaws.com    True    6.528397  \n",
       "1  ec2-3-219-196-169.compute-1.amazonaws.com    True   16.320992  \n",
       "2                   documentation.catosec.io    True    9.792595  \n",
       "3   ec2-52-203-213-7.compute-1.amazonaws.com    True   16.320992  \n",
       "4                   documentation.catosec.io    True    9.792595  "
      ]
     },
     "execution_count": 4,
     "metadata": {},
     "output_type": "execute_result"
    }
   ],
   "source": [
    "assets = pd.read_csv('../data/staging_assets.csv')\n",
    "assets.rename(\n",
    "    columns={\n",
    "        'address':'Address',\n",
    "        'domains':'Domains',\n",
    "        'first_seen':'First Seen',\n",
    "        'last_seen': 'Last Seen',\n",
    "        'hostname':'Hostname',\n",
    "        'name':'Name',\n",
    "        'online':'Online',\n",
    "        'ip_version': 'IP Version',\n",
    "        'risk_score':'Risk Score'\n",
    "    },\n",
    "    inplace=True    \n",
    ")\n",
    "assets.head()"
   ]
  },
  {
   "cell_type": "code",
   "execution_count": 5,
   "id": "cd65f619-f611-4fb2-90ad-acc59b31a612",
   "metadata": {},
   "outputs": [
    {
     "name": "stdout",
     "output_type": "stream",
     "text": [
      "Displaying chart at http://localhost:42233/\n",
      "Opening in existing browser session.\n"
     ]
    }
   ],
   "source": [
    "# sns.histplot(assets, x='Risk Score', binwidth=10)\n",
    "chart = alt.Chart(assets).mark_bar().encode(\n",
    "   alt.X('Risk Score', bin=True),\n",
    "   y='count()')\n",
    "chart.show()\n",
    "    "
   ]
  },
  {
   "cell_type": "code",
   "execution_count": 6,
   "id": "c9b3f6c9-8a35-48cd-ae96-2bd1da1785c6",
   "metadata": {
    "tags": []
   },
   "outputs": [],
   "source": [
    "# bogus: errors for any format\n",
    "# from altair_saver import save\n",
    "# alt.renderers.enable('altair_saver', fmts=['vega-lite', 'png'])\n",
    "# save(chart, 'RiskScoreBarChart.png')"
   ]
  },
  {
   "cell_type": "code",
   "execution_count": null,
   "id": "33e81433-0e67-4af6-82d6-4b14ea260368",
   "metadata": {},
   "outputs": [],
   "source": []
  }
 ],
 "metadata": {
  "kernelspec": {
   "display_name": "Python 3 (ipykernel)",
   "language": "python",
   "name": "python3"
  },
  "language_info": {
   "codemirror_mode": {
    "name": "ipython",
    "version": 3
   },
   "file_extension": ".py",
   "mimetype": "text/x-python",
   "name": "python",
   "nbconvert_exporter": "python",
   "pygments_lexer": "ipython3",
   "version": "3.9.15"
  }
 },
 "nbformat": 4,
 "nbformat_minor": 5
}
